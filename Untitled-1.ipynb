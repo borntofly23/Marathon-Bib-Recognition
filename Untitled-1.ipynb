{
 "cells": [
  {
   "cell_type": "code",
   "execution_count": 11,
   "metadata": {},
   "outputs": [],
   "source": [
    "from flask import Flask, request, jsonify\n",
    "from PIL import Image\n",
    "import pytesseract\n",
    "import base64\n",
    "from io import BytesIO\n",
    "from pymongo import MongoClient\n",
    "import pytesseract\n",
    "from PIL import Image"
   ]
  },
  {
   "cell_type": "code",
   "execution_count": 12,
   "metadata": {},
   "outputs": [],
   "source": [
    "import os\n",
    "\n",
    "files_list = []\n",
    "uploads_folder = 'uploads/new_uploads'\n",
    "if os.path.exists(uploads_folder) and os.path.isdir(uploads_folder):\n",
    "    files = os.listdir(uploads_folder)\n",
    "    files_list.extend(files)"
   ]
  },
  {
   "cell_type": "code",
   "execution_count": 13,
   "metadata": {},
   "outputs": [],
   "source": [
    "def clean_extracted_text(text):\n",
    "    numbers = []\n",
    "    for word in text.split():\n",
    "        if word.isdigit():\n",
    "            number = int(word)\n",
    "            if 100 <= number <= 999999:\n",
    "                numbers.append(number)\n",
    "    return numbers"
   ]
  },
  {
   "cell_type": "code",
   "execution_count": 14,
   "metadata": {},
   "outputs": [],
   "source": [
    "# Connect to MongoDB\n",
    "client = MongoClient('mongodb://localhost:27017/')\n",
    "db = client['marathon_database']\n",
    "images_collection = db['images']"
   ]
  },
  {
   "cell_type": "code",
   "execution_count": 15,
   "metadata": {},
   "outputs": [],
   "source": [
    "import pytesseract\n",
    "from PIL import Image\n",
    "pytesseract.pytesseract.tesseract_cmd = r'C:\\Program Files\\Tesseract-OCR\\tesseract.exe'\n",
    "\n",
    "for image in files_list:\n",
    "    try:\n",
    "        image_path = 'uploads/new_uploads/'+image\n",
    "        img = Image.open(image_path)\n",
    "        result = pytesseract.image_to_string(img, config='--psm 6 outputbase digits')\n",
    "\n",
    "        # Clean the extracted text to get numbers\n",
    "        numbers = clean_extracted_text(result)\n",
    "        \n",
    "        if not numbers:\n",
    "            continue\n",
    "        \n",
    "        # Convert image to base64 string\n",
    "        buffered = BytesIO()\n",
    "        img.save(buffered, format=\"JPEG\")\n",
    "        img_str = base64.b64encode(buffered.getvalue()).decode('utf-8')\n",
    "        \n",
    "        # Create dictionary to store number and image data\n",
    "        data = {\n",
    "            \"bib_number\": numbers[0],  # Assuming there is only one valid number,\n",
    "            \"file_name\": image,\n",
    "            \"image\": f\"data:image/jpeg;base64,{img_str}\"\n",
    "        }\n",
    "        \n",
    "        # Insert data into MongoDB collection\n",
    "        images_collection.insert_one(data)\n",
    "    except:\n",
    "        pass"
   ]
  },
  {
   "cell_type": "code",
   "execution_count": null,
   "metadata": {},
   "outputs": [],
   "source": []
  }
 ],
 "metadata": {
  "kernelspec": {
   "display_name": "Python 3",
   "language": "python",
   "name": "python3"
  },
  "language_info": {
   "codemirror_mode": {
    "name": "ipython",
    "version": 3
   },
   "file_extension": ".py",
   "mimetype": "text/x-python",
   "name": "python",
   "nbconvert_exporter": "python",
   "pygments_lexer": "ipython3",
   "version": "3.12.2"
  }
 },
 "nbformat": 4,
 "nbformat_minor": 2
}
